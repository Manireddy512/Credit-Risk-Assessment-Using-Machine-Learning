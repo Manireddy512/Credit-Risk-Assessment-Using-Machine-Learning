{
  "nbformat": 4,
  "nbformat_minor": 0,
  "metadata": {
    "colab": {
      "provenance": []
    },
    "kernelspec": {
      "name": "python3",
      "display_name": "Python 3"
    },
    "language_info": {
      "name": "python"
    }
  },
  "cells": [
    {
      "cell_type": "code",
      "execution_count": 1,
      "metadata": {
        "id": "rOmjPRYq44lE"
      },
      "outputs": [],
      "source": [
        "# Import necessary libraries\n",
        "import pandas as pd\n",
        "import numpy as np\n",
        "import matplotlib.pyplot as plt\n",
        "import seaborn as sns\n"
      ]
    },
    {
      "cell_type": "code",
      "source": [
        "from sklearn.impute import SimpleImputer\n",
        "from sklearn.model_selection import train_test_split\n",
        "from sklearn.preprocessing import StandardScaler\n",
        "from sklearn.metrics import accuracy_score, classification_report, confusion_matrix, roc_curve, auc\n"
      ],
      "metadata": {
        "id": "zlPx3mGd5BXh"
      },
      "execution_count": 2,
      "outputs": []
    },
    {
      "cell_type": "code",
      "source": [
        "from imblearn.over_sampling import SMOTE\n",
        "from collections import Counter\n"
      ],
      "metadata": {
        "id": "sSNphIzb5F8k"
      },
      "execution_count": 3,
      "outputs": []
    },
    {
      "cell_type": "code",
      "source": [
        "from xgboost import XGBClassifier\n",
        "from sklearn.linear_model import LogisticRegression\n",
        "from sklearn.ensemble import VotingClassifier\n"
      ],
      "metadata": {
        "id": "ruXmmrGx5IBX"
      },
      "execution_count": 4,
      "outputs": []
    },
    {
      "cell_type": "code",
      "source": [
        "# 🔹 Load dataset (Update filename if needed)\n",
        "df = pd.read_csv(\"/content/credit_risk_dataset.csv\")\n"
      ],
      "metadata": {
        "id": "gvrISCVY5KQp"
      },
      "execution_count": 5,
      "outputs": []
    },
    {
      "cell_type": "code",
      "source": [
        "# 🔹 Display basic info\n",
        "print(df.head())\n",
        "print(df.info())"
      ],
      "metadata": {
        "colab": {
          "base_uri": "https://localhost:8080/"
        },
        "id": "CZbGtjB95SlF",
        "outputId": "36343a5b-c5e0-4ff4-c226-b9a74fd9bf23"
      },
      "execution_count": 6,
      "outputs": [
        {
          "output_type": "stream",
          "name": "stdout",
          "text": [
            "   person_age  person_income person_home_ownership  person_emp_length  \\\n",
            "0          22          59000                  RENT              123.0   \n",
            "1          21           9600                   OWN                5.0   \n",
            "2          25           9600              MORTGAGE                1.0   \n",
            "3          23          65500                  RENT                4.0   \n",
            "4          24          54400                  RENT                8.0   \n",
            "\n",
            "  loan_intent loan_grade  loan_amnt  loan_int_rate  loan_status  \\\n",
            "0    PERSONAL          D      35000          16.02            1   \n",
            "1   EDUCATION          B       1000          11.14            0   \n",
            "2     MEDICAL          C       5500          12.87            1   \n",
            "3     MEDICAL          C      35000          15.23            1   \n",
            "4     MEDICAL          C      35000          14.27            1   \n",
            "\n",
            "   loan_percent_income cb_person_default_on_file  cb_person_cred_hist_length  \n",
            "0                 0.59                         Y                           3  \n",
            "1                 0.10                         N                           2  \n",
            "2                 0.57                         N                           3  \n",
            "3                 0.53                         N                           2  \n",
            "4                 0.55                         Y                           4  \n",
            "<class 'pandas.core.frame.DataFrame'>\n",
            "RangeIndex: 32581 entries, 0 to 32580\n",
            "Data columns (total 12 columns):\n",
            " #   Column                      Non-Null Count  Dtype  \n",
            "---  ------                      --------------  -----  \n",
            " 0   person_age                  32581 non-null  int64  \n",
            " 1   person_income               32581 non-null  int64  \n",
            " 2   person_home_ownership       32581 non-null  object \n",
            " 3   person_emp_length           31686 non-null  float64\n",
            " 4   loan_intent                 32581 non-null  object \n",
            " 5   loan_grade                  32581 non-null  object \n",
            " 6   loan_amnt                   32581 non-null  int64  \n",
            " 7   loan_int_rate               29465 non-null  float64\n",
            " 8   loan_status                 32581 non-null  int64  \n",
            " 9   loan_percent_income         32581 non-null  float64\n",
            " 10  cb_person_default_on_file   32581 non-null  object \n",
            " 11  cb_person_cred_hist_length  32581 non-null  int64  \n",
            "dtypes: float64(3), int64(5), object(4)\n",
            "memory usage: 3.0+ MB\n",
            "None\n"
          ]
        }
      ]
    },
    {
      "cell_type": "code",
      "source": [
        "# 🔹 Check for missing values\n",
        "print(\"\\nMissing values before imputation:\")\n",
        "print(df.isnull().sum())\n"
      ],
      "metadata": {
        "colab": {
          "base_uri": "https://localhost:8080/"
        },
        "id": "PxNkbtaK5Vhp",
        "outputId": "9061711b-e053-40f9-eee6-29beb85594dc"
      },
      "execution_count": 7,
      "outputs": [
        {
          "output_type": "stream",
          "name": "stdout",
          "text": [
            "\n",
            "Missing values before imputation:\n",
            "person_age                       0\n",
            "person_income                    0\n",
            "person_home_ownership            0\n",
            "person_emp_length              895\n",
            "loan_intent                      0\n",
            "loan_grade                       0\n",
            "loan_amnt                        0\n",
            "loan_int_rate                 3116\n",
            "loan_status                      0\n",
            "loan_percent_income              0\n",
            "cb_person_default_on_file        0\n",
            "cb_person_cred_hist_length       0\n",
            "dtype: int64\n"
          ]
        }
      ]
    },
    {
      "cell_type": "code",
      "source": [
        "# 🔹 Handle missing values using median imputation\n",
        "imputer = SimpleImputer(strategy=\"median\")\n",
        "df[\"person_emp_length\"] = imputer.fit_transform(df[[\"person_emp_length\"]])\n",
        "df[\"loan_int_rate\"] = imputer.fit_transform(df[[\"loan_int_rate\"]])\n"
      ],
      "metadata": {
        "id": "MQYKHIB75YHA"
      },
      "execution_count": 8,
      "outputs": []
    },
    {
      "cell_type": "code",
      "source": [
        "# 🔹 Verify missing values are handled\n",
        "print(\"\\nMissing values after imputation:\")\n",
        "print(df.isnull().sum())  # Should print 0 for all columns"
      ],
      "metadata": {
        "colab": {
          "base_uri": "https://localhost:8080/"
        },
        "id": "oo2iRq045bM-",
        "outputId": "be888e1a-ce4a-452c-fe8d-adaede94bee0"
      },
      "execution_count": 9,
      "outputs": [
        {
          "output_type": "stream",
          "name": "stdout",
          "text": [
            "\n",
            "Missing values after imputation:\n",
            "person_age                    0\n",
            "person_income                 0\n",
            "person_home_ownership         0\n",
            "person_emp_length             0\n",
            "loan_intent                   0\n",
            "loan_grade                    0\n",
            "loan_amnt                     0\n",
            "loan_int_rate                 0\n",
            "loan_status                   0\n",
            "loan_percent_income           0\n",
            "cb_person_default_on_file     0\n",
            "cb_person_cred_hist_length    0\n",
            "dtype: int64\n"
          ]
        }
      ]
    },
    {
      "cell_type": "code",
      "source": [
        "# 🔹 Select features (X) and target variable (y)\n",
        "X = df.drop(columns=['loan_status'])  # Exclude target variable\n",
        "y = df['loan_status']\n"
      ],
      "metadata": {
        "id": "E40tmt6c5d9s"
      },
      "execution_count": 10,
      "outputs": []
    },
    {
      "cell_type": "code",
      "source": [
        "# 🔹 One-hot encode categorical features\n",
        "X = pd.get_dummies(X, drop_first=True)  # Convert categorical variables to dummy variables\n"
      ],
      "metadata": {
        "id": "8o8-8O1n5f-P"
      },
      "execution_count": 11,
      "outputs": []
    },
    {
      "cell_type": "code",
      "source": [
        "# 🔹 Check for missing values after encoding\n",
        "print(\"\\nMissing values after encoding:\")\n",
        "print(X.isnull().sum().sum())  # Should be 0"
      ],
      "metadata": {
        "colab": {
          "base_uri": "https://localhost:8080/"
        },
        "id": "evyYw-UC5iDT",
        "outputId": "b309715c-f4ad-4ba9-e372-bc94fad57b79"
      },
      "execution_count": 12,
      "outputs": [
        {
          "output_type": "stream",
          "name": "stdout",
          "text": [
            "\n",
            "Missing values after encoding:\n",
            "0\n"
          ]
        }
      ]
    },
    {
      "cell_type": "code",
      "source": [
        "# 🔹 Train-Test Split (before applying SMOTE)\n",
        "X_train, X_test, y_train, y_test = train_test_split(X, y, test_size=0.2, random_state=42)"
      ],
      "metadata": {
        "id": "YXaUov4I5mrn"
      },
      "execution_count": 13,
      "outputs": []
    },
    {
      "cell_type": "code",
      "source": [
        "# 🔹 Apply SMOTE to balance training data only (NOT test data)\n",
        "smote = SMOTE(random_state=42)\n",
        "X_train_sm, y_train_sm = smote.fit_resample(X_train, y_train)"
      ],
      "metadata": {
        "id": "-DGgJLDL5qX4"
      },
      "execution_count": 14,
      "outputs": []
    },
    {
      "cell_type": "code",
      "source": [
        "# 🔹 Check class distribution after SMOTE\n",
        "print(\"\\nClass distribution after SMOTE:\", Counter(y_train_sm))\n"
      ],
      "metadata": {
        "colab": {
          "base_uri": "https://localhost:8080/"
        },
        "id": "MUayTwQw5tCb",
        "outputId": "431ff993-20ba-4da1-f899-63ea5c684ed3"
      },
      "execution_count": 15,
      "outputs": [
        {
          "output_type": "stream",
          "name": "stdout",
          "text": [
            "\n",
            "Class distribution after SMOTE: Counter({0: 20401, 1: 20401})\n"
          ]
        }
      ]
    },
    {
      "cell_type": "code",
      "source": [
        "# 🔹 Scale numerical features (for Logistic Regression)\n",
        "scaler = StandardScaler()\n",
        "X_train_sm = scaler.fit_transform(X_train_sm)\n",
        "X_test = scaler.transform(X_test)\n"
      ],
      "metadata": {
        "id": "drCKw2RJ5vT7"
      },
      "execution_count": 16,
      "outputs": []
    },
    {
      "cell_type": "code",
      "source": [
        "# 🔹 Train the Hybrid Model (XGBoost + Logistic Regression)\n",
        "scale_pos_weight = sum(y_train_sm == 0) / sum(y_train_sm == 1)  # Adjust for class imbalance in XGBoost\n"
      ],
      "metadata": {
        "id": "nQYvsx-W5xVj"
      },
      "execution_count": 17,
      "outputs": []
    },
    {
      "cell_type": "code",
      "source": [
        "# XGBoost Model\n",
        "xgb_model = XGBClassifier(scale_pos_weight=scale_pos_weight, random_state=42, eval_metric='logloss')\n"
      ],
      "metadata": {
        "id": "KGqHVmJw5zGv"
      },
      "execution_count": 18,
      "outputs": []
    },
    {
      "cell_type": "code",
      "source": [
        "# Logistic Regression Model\n",
        "log_reg_model = LogisticRegression(solver='liblinear', random_state=42)\n"
      ],
      "metadata": {
        "id": "N0Xj7nM851cL"
      },
      "execution_count": 19,
      "outputs": []
    },
    {
      "cell_type": "code",
      "source": [
        "# Hybrid Model using Voting Classifier (Soft Voting)\n",
        "hybrid_model = VotingClassifier(estimators=[('xgb', xgb_model), ('logreg', log_reg_model)], voting='soft')\n"
      ],
      "metadata": {
        "id": "vodL6b0w52Kn"
      },
      "execution_count": 20,
      "outputs": []
    },
    {
      "cell_type": "code",
      "source": [
        "# 🔹 Train the Hybrid Model\n",
        "hybrid_model.fit(X_train_sm, y_train_sm)\n",
        "print(\"\\n Hybrid Model Training Completed!\")\n"
      ],
      "metadata": {
        "colab": {
          "base_uri": "https://localhost:8080/"
        },
        "id": "N6B-E0bL54vO",
        "outputId": "59f30936-d0a9-4465-9ffd-714fc556eec1"
      },
      "execution_count": 22,
      "outputs": [
        {
          "output_type": "stream",
          "name": "stdout",
          "text": [
            "\n",
            " Hybrid Model Training Completed!\n"
          ]
        }
      ]
    },
    {
      "cell_type": "code",
      "source": [
        "# 🔹 Make Predictions\n",
        "y_pred = hybrid_model.predict(X_test)\n",
        "y_pred_prob = hybrid_model.predict_proba(X_test)[:, 1]  # Probabilities for ROC curve"
      ],
      "metadata": {
        "id": "vuSwpjCd56_q"
      },
      "execution_count": 23,
      "outputs": []
    },
    {
      "cell_type": "code",
      "source": [
        "# 🔹 Model Evaluation\n",
        "accuracy = accuracy_score(y_test, y_pred)\n",
        "print(f\"\\n Model Accuracy: {accuracy:.2%}\")\n"
      ],
      "metadata": {
        "colab": {
          "base_uri": "https://localhost:8080/"
        },
        "id": "b9E_YpgI5_zq",
        "outputId": "a73f5cf0-da0d-4896-c53f-08db7ca85f56"
      },
      "execution_count": 25,
      "outputs": [
        {
          "output_type": "stream",
          "name": "stdout",
          "text": [
            "\n",
            " Model Accuracy: 91.65%\n"
          ]
        }
      ]
    },
    {
      "cell_type": "code",
      "source": [
        "# Classification Report\n",
        "print(\"\\n📊 Classification Report:\\n\", classification_report(y_test, y_pred))\n"
      ],
      "metadata": {
        "colab": {
          "base_uri": "https://localhost:8080/"
        },
        "id": "1O8qyqkW6DO4",
        "outputId": "e9e7190b-4bff-462b-9203-59d74743186b"
      },
      "execution_count": 26,
      "outputs": [
        {
          "output_type": "stream",
          "name": "stdout",
          "text": [
            "\n",
            "📊 Classification Report:\n",
            "               precision    recall  f1-score   support\n",
            "\n",
            "           0       0.93      0.97      0.95      5072\n",
            "           1       0.86      0.74      0.80      1445\n",
            "\n",
            "    accuracy                           0.92      6517\n",
            "   macro avg       0.90      0.85      0.87      6517\n",
            "weighted avg       0.91      0.92      0.91      6517\n",
            "\n"
          ]
        }
      ]
    },
    {
      "cell_type": "code",
      "source": [
        "# Confusion Matrix\n",
        "conf_matrix = confusion_matrix(y_test, y_pred)\n",
        "plt.figure(figsize=(6, 4))\n",
        "sns.heatmap(conf_matrix, annot=True, fmt=\"d\", cmap=\"Blues\", xticklabels=[\"No Default (0)\", \"Default (1)\"], yticklabels=[\"No Default (0)\", \"Default (1)\"])\n",
        "plt.xlabel(\"Predicted\")\n",
        "plt.ylabel(\"Actual\")\n",
        "plt.title(\"Confusion Matrix\")\n",
        "plt.show()\n"
      ],
      "metadata": {
        "colab": {
          "base_uri": "https://localhost:8080/",
          "height": 410
        },
        "id": "SjyKub-V6Fns",
        "outputId": "97a90876-ac19-49e2-a2bb-e68699be221f"
      },
      "execution_count": 27,
      "outputs": [
        {
          "output_type": "display_data",
          "data": {
            "text/plain": [
              "<Figure size 600x400 with 2 Axes>"
            ],
            "image/png": "[encoded data removed]"
          },
          "metadata": {}
        }
      ]
    },
    {
      "cell_type": "code",
      "source": [
        "# 🔹 ROC Curve\n",
        "fpr, tpr, _ = roc_curve(y_test, y_pred_prob)\n",
        "plt.figure(figsize=(6, 4))\n",
        "plt.plot(fpr, tpr, label=f'AUC: {auc(fpr, tpr):.2f}')\n",
        "plt.xlabel(\"False Positive Rate\")\n",
        "plt.ylabel(\"True Positive Rate\")\n",
        "plt.title(\"ROC Curve\")\n",
        "plt.legend()\n",
        "plt.show()"
      ],
      "metadata": {
        "colab": {
          "base_uri": "https://localhost:8080/",
          "height": 410
        },
        "id": "YAFwMBOb6IJv",
        "outputId": "2458f10f-615c-4008-d2a0-12954771cab1"
      },
      "execution_count": 28,
      "outputs": [
        {
          "output_type": "display_data",
          "data": {
            "text/plain": [
              "<Figure size 600x400 with 1 Axes>"
            ],
            "image/png": "[encoded data removed]"
          },
          "metadata": {}
        }
      ]
    },
    {
      "cell_type": "code",
      "source": [
        "# 🔹 Sample Input for Prediction\n",
        "sample_input = pd.DataFrame({\n",
        "    'person_age': [35],\n",
        "    'person_income': [50000],\n",
        "    'person_home_ownership': ['RENT'],\n",
        "    'person_emp_length': [5],\n",
        "    'loan_intent': ['EDUCATION'],\n",
        "    'loan_grade': ['B'],\n",
        "    'loan_amnt': [15000],\n",
        "    'loan_int_rate': [12.5],\n",
        "    'loan_percent_income': [0.3],\n",
        "    'cb_person_default_on_file': ['Y'],\n",
        "    'cb_person_cred_hist_length': [7]\n",
        "})\n"
      ],
      "metadata": {
        "id": "Kiw9BAxu6K-n"
      },
      "execution_count": 29,
      "outputs": []
    },
    {
      "cell_type": "code",
      "source": [
        "\n",
        "# Apply the same encoding as training data\n",
        "sample_input_encoded = pd.get_dummies(sample_input)\n"
      ],
      "metadata": {
        "id": "LZ8npEkg6NPo"
      },
      "execution_count": 30,
      "outputs": []
    },
    {
      "cell_type": "code",
      "source": [
        "# Ensure input has the same columns as the training dataset\n",
        "missing_cols = set(X.columns) - set(sample_input_encoded.columns)\n",
        "for col in missing_cols:\n",
        "    sample_input_encoded[col] = 0  # Add missing columns with 0\n"
      ],
      "metadata": {
        "id": "ojoT7ynn6QGn"
      },
      "execution_count": 31,
      "outputs": []
    },
    {
      "cell_type": "code",
      "source": [
        "\n",
        "# Reorder columns to match training set\n",
        "sample_input_encoded = sample_input_encoded[X.columns]\n",
        "\n",
        "# Scale input data\n",
        "sample_input_scaled = scaler.transform(sample_input_encoded)\n"
      ],
      "metadata": {
        "id": "oSjHmg7C6SV8"
      },
      "execution_count": 32,
      "outputs": []
    },
    {
      "cell_type": "code",
      "source": [
        "# 🔹 Predict Loan Default\n",
        "prediction = hybrid_model.predict(sample_input_scaled)\n",
        "fraud_probability = hybrid_model.predict_proba(sample_input_scaled)[:, 1][0]\n",
        "\n",
        "if prediction[0] == 1:\n",
        "    print(\"\\n Fraudulent Transaction Detected! \")\n",
        "else:\n",
        "    print(\"\\n Legitimate Transaction \")\n",
        "\n",
        "print(f\"\\n Fraud Probability: {fraud_probability:.2%}\")"
      ],
      "metadata": {
        "colab": {
          "base_uri": "https://localhost:8080/"
        },
        "id": "GrvHLgyR6TG3",
        "outputId": "8087da32-d9cb-42a8-ca4f-ad17e1b54212"
      },
      "execution_count": 34,
      "outputs": [
        {
          "output_type": "stream",
          "name": "stdout",
          "text": [
            "\n",
            " Legitimate Transaction \n",
            "\n",
            " Fraud Probability: 33.96%\n"
          ]
        }
      ]
    }
  ]
}